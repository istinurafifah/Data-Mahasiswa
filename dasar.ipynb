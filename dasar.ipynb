{
 "cells": [
  {
   "cell_type": "markdown",
   "id": "a820deac-38cf-4ea5-829b-756fae91ada8",
   "metadata": {},
   "source": [
    "<center>\n",
    "<img src=\"https://upload.wikimedia.org/wikipedia/commons/thumb/1/13/Logo_Universitas_Nusa_Putra.png/479px-Logo_Universitas_Nusa_Putra.png\" width=\"200\">\n",
    "    <hr\n",
    "    <h1> Data Mahasiswa 2025 </h1>\n",
    "</center>\n",
    "\n",
    "<table>\n",
    "    <tr>\n",
    "        <td>NIM</td>\n",
    "        <td>NAMA</td>\n",
    "        <td>PROGRAM STUDI</td>\n",
    "        <td>KELAS</td>\n",
    "    </tr>\n",
    "     <tr>\n",
    "        <tr><td>20240040027</td>\n",
    "        <td>Hasan Muhammad Alban</td>\n",
    "        <td>Teknik Informatika</td>\n",
    "        <td>G</td>\n",
    "    </tr>\n",
    "    <tr><td>20240040057</td>\n",
    "        <td>Alya Nurul Kamila</td>\n",
    "        <td>Teknik Informatika</td>\n",
    "        <td>G</td>\n",
    "    </tr>\n",
    "    <tr><td>20240040124</td>\n",
    "        <td>Aleeza Khansa</td>\n",
    "        <td>Teknik Informatika</td>\n",
    "        <td>G</td>\n",
    "    </tr>\n",
    "    <tr>\n",
    "        <tr><td>20240040076</td>\n",
    "        <td>Muhammad Aslan</td>\n",
    "        <td>Teknik Informatika</td>\n",
    "        <td>G</td>\n",
    "    </tr>\n",
    "     <tr>\n",
    "        <tr><td>20240040023</td>\n",
    "        <td>Haikal Kurniawan</td>\n",
    "        <td>Teknik Informatika</td>\n",
    "        <td>G</td>\n",
    "    </tr>\n",
    "     <tr>\n",
    "        <tr><td>20240040003</td>\n",
    "        <td>Ali Al Mubarak</td>\n",
    "        <td>Teknik Informatika</td>\n",
    "        <td>G</td>\n",
    "    </tr>\n",
    "     <tr>\n",
    "        <tr><td>20240040207</td>\n",
    "        <td>Fariz Abdul Hasan</td>\n",
    "        <td>Teknik Informatika</td>\n",
    "        <td>G</td>\n",
    "    </tr>\n",
    "    \n",
    "</table>\n",
    "<hr>"
   ]
  },
  {
   "cell_type": "code",
   "execution_count": null,
   "id": "267d7815-4ed2-4b95-a430-499adcc22eb2",
   "metadata": {},
   "outputs": [],
   "source": []
  }
 ],
 "metadata": {
  "kernelspec": {
   "display_name": "Python [conda env:base] *",
   "language": "python",
   "name": "conda-base-py"
  },
  "language_info": {
   "codemirror_mode": {
    "name": "ipython",
    "version": 3
   },
   "file_extension": ".py",
   "mimetype": "text/x-python",
   "name": "python",
   "nbconvert_exporter": "python",
   "pygments_lexer": "ipython3",
   "version": "3.12.7"
  }
 },
 "nbformat": 4,
 "nbformat_minor": 5
}
